{
 "cells": [
  {
   "cell_type": "code",
   "execution_count": null,
   "metadata": {},
   "outputs": [],
   "source": [
    "# install ipykernel\n",
    "# pip install ipykernel\n",
    "\n",
    "# tell it that we have the nlp-e23 kernel - pls use\n",
    "# python3 -m ipykernel install --user --name=nlp-e23\n",
    "\n",
    "# install requirements\n",
    "# pip install -r requirements.txt"
   ]
  },
  {
   "cell_type": "markdown",
   "metadata": {},
   "source": [
    "# Warm up exercises class 1"
   ]
  },
  {
   "cell_type": "code",
   "execution_count": null,
   "metadata": {},
   "outputs": [],
   "source": [
    "# Making some changes to see if it commits\n"
   ]
  },
  {
   "cell_type": "code",
   "execution_count": 1,
   "metadata": {},
   "outputs": [
    {
     "data": {
      "text/plain": [
       "'ida er en pige og sådan er det'"
      ]
     },
     "execution_count": 1,
     "metadata": {},
     "output_type": "execute_result"
    }
   ],
   "source": [
    "# String concatenation\n",
    "def concat_two_strings(str1,str2):\n",
    "\n",
    "    concat_str = str1 + str2\n",
    "\n",
    "    return concat_str\n",
    "\n",
    "concat_two_strings(\"ida er en pige\", \" og sådan er det\")"
   ]
  },
  {
   "cell_type": "code",
   "execution_count": 2,
   "metadata": {},
   "outputs": [
    {
     "data": {
      "text/plain": [
       "'reregdgflkjdfgdgdgdg'"
      ]
     },
     "execution_count": 2,
     "metadata": {},
     "output_type": "execute_result"
    }
   ],
   "source": [
    "# String concatenation for any number of strings\n",
    "def concat_two_strings(*args): # passing any number of args to the function call\n",
    "    \n",
    "    # join them all\n",
    "    concat_str = \"\".join(args)\n",
    "\n",
    "    return concat_str\n",
    "    \n",
    "    # other way \n",
    "    # for arg in args:\n",
    "    #    concat_str += args\n",
    "\n",
    "    # return concat_str\n",
    "\n",
    "concat_two_strings(\"rereg\", \"dgflkj\", \"dfgdg\", \"dgdg\")"
   ]
  },
  {
   "cell_type": "code",
   "execution_count": 1,
   "metadata": {},
   "outputs": [
    {
     "data": {
      "text/plain": [
       "3"
      ]
     },
     "execution_count": 1,
     "metadata": {},
     "output_type": "execute_result"
    }
   ],
   "source": [
    "# Counting substrings\n",
    "def letter_count(l,s):\n",
    "\n",
    "    times_found = s.count(l)\n",
    "\n",
    "    return times_found\n",
    "\n",
    "letter_count(\"a\", \"aaredga\")"
   ]
  },
  {
   "cell_type": "code",
   "execution_count": null,
   "metadata": {},
   "outputs": [],
   "source": []
  },
  {
   "cell_type": "code",
   "execution_count": 1,
   "metadata": {},
   "outputs": [
    {
     "ename": "ModuleNotFoundError",
     "evalue": "No module named 'plotly'",
     "output_type": "error",
     "traceback": [
      "\u001b[0;31m---------------------------------------------------------------------------\u001b[0m",
      "\u001b[0;31mModuleNotFoundError\u001b[0m                       Traceback (most recent call last)",
      "\u001b[1;32m/Users/pernillebrams/Desktop/AARHUS UNIVERSITY/kandidat/nlp/NLP-AU-23/classes/class_01.ipynb Cell 8\u001b[0m line \u001b[0;36m<cell line: 1>\u001b[0;34m()\u001b[0m\n\u001b[0;32m----> <a href='vscode-notebook-cell:/Users/pernillebrams/Desktop/AARHUS%20UNIVERSITY/kandidat/nlp/NLP-AU-23/classes/class_01.ipynb#X11sZmlsZQ%3D%3D?line=0'>1</a>\u001b[0m \u001b[39mimport\u001b[39;00m \u001b[39mplotly\u001b[39;00m\n",
      "\u001b[0;31mModuleNotFoundError\u001b[0m: No module named 'plotly'"
     ]
    }
   ],
   "source": [
    "import plotly"
   ]
  },
  {
   "cell_type": "code",
   "execution_count": 11,
   "metadata": {},
   "outputs": [
    {
     "ename": "ModuleNotFoundError",
     "evalue": "No module named 'plotly'",
     "output_type": "error",
     "traceback": [
      "\u001b[0;31m---------------------------------------------------------------------------\u001b[0m",
      "\u001b[0;31mModuleNotFoundError\u001b[0m                       Traceback (most recent call last)",
      "\u001b[1;32m/Users/pernillebrams/Desktop/AARHUS UNIVERSITY/kandidat/nlp/NLP-AU-23/classes/class_01.ipynb Cell 9\u001b[0m line \u001b[0;36m<cell line: 1>\u001b[0;34m()\u001b[0m\n\u001b[0;32m----> <a href='vscode-notebook-cell:/Users/pernillebrams/Desktop/AARHUS%20UNIVERSITY/kandidat/nlp/NLP-AU-23/classes/class_01.ipynb#X10sZmlsZQ%3D%3D?line=0'>1</a>\u001b[0m \u001b[39mimport\u001b[39;00m \u001b[39mplotly\u001b[39;00m\n\u001b[1;32m      <a href='vscode-notebook-cell:/Users/pernillebrams/Desktop/AARHUS%20UNIVERSITY/kandidat/nlp/NLP-AU-23/classes/class_01.ipynb#X10sZmlsZQ%3D%3D?line=2'>3</a>\u001b[0m \u001b[39mimport\u001b[39;00m \u001b[39mplotly\u001b[39;00m\u001b[39m.\u001b[39;00m\u001b[39mgraph_objects\u001b[39;00m \u001b[39mas\u001b[39;00m \u001b[39mgo\u001b[39;00m\n\u001b[1;32m      <a href='vscode-notebook-cell:/Users/pernillebrams/Desktop/AARHUS%20UNIVERSITY/kandidat/nlp/NLP-AU-23/classes/class_01.ipynb#X10sZmlsZQ%3D%3D?line=3'>4</a>\u001b[0m \u001b[39mimport\u001b[39;00m \u001b[39mrandom\u001b[39;00m\n",
      "\u001b[0;31mModuleNotFoundError\u001b[0m: No module named 'plotly'"
     ]
    }
   ],
   "source": [
    "import plotly\n",
    "\n",
    "import plotly.graph_objects as go\n",
    "import random\n",
    "\n",
    "# Generating sample data\n",
    "nodes = [\"Manufacturing\", \"Wholesale\", \"Retail\", \"Customer\"]\n",
    "flows = [random.randint(5, 50) for _ in range(3)]\n",
    "\n",
    "# Create the Sankey diagram\n",
    "fig = go.Figure(data=[go.Sankey(\n",
    "    node=dict(\n",
    "        pad=15,\n",
    "        thickness=20,\n",
    "        line=dict(color=\"black\", width=0.5),\n",
    "        label=nodes\n",
    "    ),\n",
    "    link=dict(\n",
    "        source=[0, 1, 2],  # Indices correspond to labels\n",
    "        target=[1, 2, 3],\n",
    "        value=flows\n",
    "    )\n",
    ")])\n",
    "\n",
    "fig.update_layout(title_text=\"Sankey Diagram with Sample Data\", font_size=10)\n",
    "fig.show()\n"
   ]
  },
  {
   "cell_type": "code",
   "execution_count": null,
   "metadata": {},
   "outputs": [],
   "source": [
    "# adding something to test push"
   ]
  }
 ],
 "metadata": {
  "kernelspec": {
   "display_name": "myenv_nlp23",
   "language": "python",
   "name": "myenv_nlp23"
  },
  "language_info": {
   "codemirror_mode": {
    "name": "ipython",
    "version": 3
   },
   "file_extension": ".py",
   "mimetype": "text/x-python",
   "name": "python",
   "nbconvert_exporter": "python",
   "pygments_lexer": "ipython3",
   "version": "3.8.3"
  },
  "orig_nbformat": 4
 },
 "nbformat": 4,
 "nbformat_minor": 2
}
